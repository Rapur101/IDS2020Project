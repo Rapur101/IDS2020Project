{
 "cells": [
  {
   "cell_type": "markdown",
   "metadata": {},
   "source": [
    "# Data preparation"
   ]
  },
  {
   "cell_type": "markdown",
   "metadata": {},
   "source": [
    "Importing neccesary dependencies and original data."
   ]
  },
  {
   "cell_type": "code",
   "execution_count": 1,
   "metadata": {},
   "outputs": [],
   "source": [
    "import pandas as pd\n",
    "import numpy as np"
   ]
  },
  {
   "cell_type": "code",
   "execution_count": 2,
   "metadata": {},
   "outputs": [],
   "source": [
    "data =  pd.read_excel(\"data/arvel_m1-300920.xlsx\")"
   ]
  },
  {
   "cell_type": "code",
   "execution_count": 3,
   "metadata": {},
   "outputs": [],
   "source": [
    "#Replace undefined city values with NaN values for uniformity.\n",
    "data['Linn'] = data['Linn'].replace('Määramata', np.nan)"
   ]
  },
  {
   "cell_type": "markdown",
   "metadata": {},
   "source": [
    "Trimming data to newer cars, because original dataset contains too many entries."
   ]
  },
  {
   "cell_type": "code",
   "execution_count": 4,
   "metadata": {},
   "outputs": [],
   "source": [
    "#Only include cars first registered after 1995.\n",
    "data = data[data['Esm reg aasta'] > 1995]  "
   ]
  },
  {
   "cell_type": "markdown",
   "metadata": {},
   "source": [
    "Each car has number field, but most of them were set 1. So we repeat rows, if number is higher and remove the column."
   ]
  },
  {
   "cell_type": "code",
   "execution_count": 5,
   "metadata": {
    "scrolled": true
   },
   "outputs": [],
   "source": [
    "#Add rows based on 'Arv' column, and removed the 'Arv' column afterwards.\n",
    "data = data.loc[np.repeat(data.index.values, [val if val > 1 else 1 for val in data.Arv])]\n",
    "data = data.reset_index(drop=True)\n",
    "data = data.drop(columns=['Arv'])"
   ]
  },
  {
   "cell_type": "markdown",
   "metadata": {},
   "source": [
    "## Combine one brand vehicles to be labled under one name"
   ]
  },
  {
   "cell_type": "code",
   "execution_count": 6,
   "metadata": {},
   "outputs": [],
   "source": [
    "data.loc[(data['Mark'] == 'CITROEN ADRIA') \n",
    "         | (data['Mark'] == 'CITROEN ADRIA')\n",
    "         | (data['Mark'] == 'CITROEN BÜRSTNER')\n",
    "         | (data['Mark'] == 'CITROEN CAPRON')\n",
    "         | (data['Mark'] == 'CITROEN DANGEL')\n",
    "         | (data['Mark'] == 'CITROEN GIOTTILINE')\n",
    "         | (data['Mark'] == 'CITROEN IIC')\n",
    "         | (data['Mark'] == 'CITROEN PLA')\n",
    "         | (data['Mark'] == 'CITROEN PÖSSL')\n",
    "         | (data['Mark'] == 'CITROEN TRIGANO'), 'Mark'] = 'CITROEN'"
   ]
  },
  {
   "cell_type": "code",
   "execution_count": 7,
   "metadata": {},
   "outputs": [],
   "source": [
    "data.loc[(data['Mark'] == 'DAEWOO-FSO'), 'Mark'] = 'DAEWOO'"
   ]
  },
  {
   "cell_type": "code",
   "execution_count": 8,
   "metadata": {},
   "outputs": [],
   "source": [
    "data.loc[(data['Mark'] == 'FIAT ADRIA') \n",
    "         | (data['Mark'] == 'CITROEN ADRIA')\n",
    "         | (data['Mark'] == 'FIAT AHORN')\n",
    "         | (data['Mark'] == 'FIAT AUTOSTAR')\n",
    "         | (data['Mark'] == 'FIAT BÜRSTNER')\n",
    "         | (data['Mark'] == 'FIAT CAPRON')\n",
    "         | (data['Mark'] == 'FIAT CARIOCA')\n",
    "         | (data['Mark'] == 'FIAT CARTHAGO')\n",
    "         | (data['Mark'] == 'FIAT CHALLENGER')\n",
    "         | (data['Mark'] == 'FIAT CHAUSSON')\n",
    "         | (data['Mark'] == 'FIAT CI')\n",
    "         | (data['Mark'] == 'FIAT CRISTALL')\n",
    "         | (data['Mark'] == 'FIAT DETHLEFFS')\n",
    "         | (data['Mark'] == 'FIAT ELNAGH')\n",
    "         | (data['Mark'] == 'FIAT EURA MOBIL')\n",
    "         | (data['Mark'] == 'FIAT FRANKIA')\n",
    "         | (data['Mark'] == 'FIAT GIOTTILINE')\n",
    "         | (data['Mark'] == 'FIAT GRANDUCA')\n",
    "         | (data['Mark'] == 'FIAT HOBBY')\n",
    "         | (data['Mark'] == 'FIAT HYMER')\n",
    "         | (data['Mark'] == 'FIAT ITINEO')\n",
    "         | (data['Mark'] == 'FIAT JOINT')\n",
    "         | (data['Mark'] == 'FIAT KARMANN MOBIL')\n",
    "         | (data['Mark'] == 'FIAT KNAUS')\n",
    "         | (data['Mark'] == 'FIAT KNAUS TABBERT GROUP GMBH')\n",
    "         | (data['Mark'] == 'FIAT LAIKA')\n",
    "         | (data['Mark'] == 'FIAT LMC')\n",
    "         | (data['Mark'] == 'FIAT MCLOUIS')\n",
    "         | (data['Mark'] == 'FIAT MOBILVETTA')\n",
    "         | (data['Mark'] == 'FIAT MONCAYO')\n",
    "         | (data['Mark'] == 'FIAT NIESMANN+BISCHOFF')\n",
    "         | (data['Mark'] == 'FIAT PILOTE')\n",
    "         | (data['Mark'] == 'FIAT PLA')\n",
    "         | (data['Mark'] == 'FIAT PÖSSL')\n",
    "         | (data['Mark'] == 'FIAT RAPIDO')\n",
    "         | (data['Mark'] == 'FIAT RIMOR')\n",
    "         | (data['Mark'] == 'FIAT ROLLER TEAM')\n",
    "         | (data['Mark'] == 'FIAT SEA')\n",
    "         | (data['Mark'] == 'FIAT SOLIFER')\n",
    "         | (data['Mark'] == 'FIAT SUN LIVING')\n",
    "         | (data['Mark'] == 'FIAT TEC')\n",
    "         | (data['Mark'] == 'FIAT TRIGANO')\n",
    "         | (data['Mark'] == 'FIAT WEINSBERG')\n",
    "         | (data['Mark'] == 'FIAT XGO')\n",
    "         | (data['Mark'] == 'FIAT VIVA')\n",
    "         | (data['Mark'] == 'FIAT-FENDT')\n",
    "         | (data['Mark'] == 'FIAT-SHARKY'), 'Mark'] = 'FIAT'"
   ]
  },
  {
   "cell_type": "code",
   "execution_count": 9,
   "metadata": {},
   "outputs": [],
   "source": [
    "data.loc[(data['Mark'] == 'FORD BURSTNER') \n",
    "         | (data['Mark'] == 'FORD CAPRON')\n",
    "         | (data['Mark'] == 'FORD CHALLENGER')\n",
    "         | (data['Mark'] == 'FORD CHAUSSON')\n",
    "         | (data['Mark'] == 'FORD DETHLEFFS')\n",
    "         | (data['Mark'] == 'FORD ELNAGH')\n",
    "         | (data['Mark'] == 'FORD HOBBY')\n",
    "         | (data['Mark'] == 'FORD HYMER')\n",
    "         | (data['Mark'] == 'FORD LMC')\n",
    "         | (data['Mark'] == 'FORD RIMOR')\n",
    "         | (data['Mark'] == 'FORD ROLLER TEAM')\n",
    "         | (data['Mark'] == 'FORD SEA')\n",
    "         | (data['Mark'] == 'FORD TEC')\n",
    "         | (data['Mark'] == 'FORD TRIGANO')\n",
    "         | (data['Mark'] == 'FORD WESTFALIA')\n",
    "         | (data['Mark'] == 'FORD-CNG-TECHNIK'), 'Mark'] = 'FORD'"
   ]
  },
  {
   "cell_type": "code",
   "execution_count": 10,
   "metadata": {},
   "outputs": [],
   "source": [
    "data.loc[(data['Mark'] == 'IVECO DETHLEFFS') \n",
    "         | (data['Mark'] == 'IVECO MOBILVETTA')\n",
    "         | (data['Mark'] == 'IVECO MORELO')\n",
    "         | (data['Mark'] == 'IVECO NIESMANN+BISCHOFF')\n",
    "         | (data['Mark'] == 'IVECO-LAIKA'), 'Mark'] = 'IVECO'"
   ]
  },
  {
   "cell_type": "code",
   "execution_count": 11,
   "metadata": {},
   "outputs": [],
   "source": [
    "data.loc[(data['Mark'] == 'LADA-VAZ'), 'Mark'] = 'LADA'"
   ]
  },
  {
   "cell_type": "code",
   "execution_count": 12,
   "metadata": {},
   "outputs": [],
   "source": [
    "data.loc[(data['Mark'] == 'MERCEDES-BENZ ADRIA') \n",
    "         | (data['Mark'] == 'MERCEDES-AMG')\n",
    "         | (data['Mark'] == 'MERCEDES-BENZ AUTO ROLLER')\n",
    "         | (data['Mark'] == 'MERCEDES-BENZ BRABUS AUTOMOTIVE')\n",
    "         | (data['Mark'] == 'MERCEDES-BENZ BUSCONCEPT')\n",
    "         | (data['Mark'] == 'MERCEDES-BENZ CARTHAGO')\n",
    "         | (data['Mark'] == 'MERCEDES-BENZ EVOBUS')\n",
    "         | (data['Mark'] == 'MERCEDES-BENZ FRANKIA')\n",
    "         | (data['Mark'] == 'MERCEDES-BENZ HEHN')\n",
    "         | (data['Mark'] == 'MERCEDES-BENZ HYMER')\n",
    "         | (data['Mark'] == 'MERCEDES-BENZ LA STRADA')\n",
    "         | (data['Mark'] == 'MERCEDES-BENZ LMC')\n",
    "         | (data['Mark'] == 'MERCEDES-BENZ NOTIN')\n",
    "         | (data['Mark'] == 'MERCEDES-BENZ POLLMANN')\n",
    "         | (data['Mark'] == 'MERCEDES-BENZ RAPIDO')\n",
    "         | (data['Mark'] == 'MERCEDES-BENZ RETTENMAIER')\n",
    "         | (data['Mark'] == 'MERCEDES-BENZ RIMOR')\n",
    "         | (data['Mark'] == 'MERCEDES-BENZ TRIGANO'), 'Mark'] = 'MERCEDES-BENZ'"
   ]
  },
  {
   "cell_type": "code",
   "execution_count": 13,
   "metadata": {},
   "outputs": [],
   "source": [
    "data.loc[(data['Mark'] == 'PEUGEOT DANGEL') \n",
    "         | (data['Mark'] == 'PEUGEOT MORICEAIR')\n",
    "         | (data['Mark'] == 'PEUGEOT PLA'), 'Mark'] = 'PEUGEOT'"
   ]
  },
  {
   "cell_type": "code",
   "execution_count": 14,
   "metadata": {},
   "outputs": [],
   "source": [
    "data.loc[(data['Mark'] == 'RENAULT ADRIA') \n",
    "         | (data['Mark'] == 'RENAULT ADRIA MOBIL')\n",
    "         | (data['Mark'] == 'RENAULT AHORN')\n",
    "         | (data['Mark'] == 'RENAULT HOBBY')\n",
    "         | (data['Mark'] == 'RENAULT HYMER')\n",
    "         | (data['Mark'] == 'RENAULT KENTUCKY CAMP')\n",
    "         | (data['Mark'] == 'RENAULT KNAUS')\n",
    "         | (data['Mark'] == 'RENAULT KNAUS TABBERT')\n",
    "         | (data['Mark'] == 'RENAULT LUANO CAMP')\n",
    "         | (data['Mark'] == 'RENAULT OMNINOVA')\n",
    "         | (data['Mark'] == 'RENAULT RIMOR')\n",
    "         | (data['Mark'] == 'RENAULT STX')\n",
    "         | (data['Mark'] == 'RENAULT XGO'), 'Mark'] = 'RENAULT'\n"
   ]
  },
  {
   "cell_type": "code",
   "execution_count": 15,
   "metadata": {},
   "outputs": [],
   "source": [
    "data.loc[(data['Mark'] == 'SCANIA IRIZAR') \n",
    "         | (data['Mark'] == 'SCANIA KIITOKORI'), 'Mark'] = 'SCANIA'"
   ]
  },
  {
   "cell_type": "code",
   "execution_count": 16,
   "metadata": {},
   "outputs": [],
   "source": [
    "data.loc[(data['Mark'] == 'TESLA MOTORS'), 'Mark'] = 'TESLA'"
   ]
  },
  {
   "cell_type": "code",
   "execution_count": 17,
   "metadata": {},
   "outputs": [],
   "source": [
    "data.loc[(data['Mark'] == 'VOLKSWAGEN MÜLLER') \n",
    "         | (data['Mark'] == 'VOLKSWAGEN WINNEBAGO'), 'Mark'] = 'VOLKSWAGEN'"
   ]
  },
  {
   "cell_type": "code",
   "execution_count": 18,
   "metadata": {},
   "outputs": [],
   "source": [
    "data.loc[(data['Mark'] == 'VOLVO CARRUS') \n",
    "         | (data['Mark'] == 'VOLVO NILSSON'), 'Mark'] = 'VOLVO'"
   ]
  },
  {
   "cell_type": "code",
   "execution_count": 19,
   "metadata": {},
   "outputs": [],
   "source": [
    "data.loc[(data['Mark'] == 'BMW ALPINA') \n",
    "         | (data['Mark'] == 'BMW I'), 'Mark'] = 'BMW'"
   ]
  },
  {
   "cell_type": "code",
   "execution_count": 20,
   "metadata": {},
   "outputs": [],
   "source": [
    "data.loc[(data['Mark'] == 'JAGUAR LAND ROVER LIMITED'), 'Mark'] = 'JAGUAR'"
   ]
  },
  {
   "cell_type": "code",
   "execution_count": 21,
   "metadata": {},
   "outputs": [
    {
     "data": {
      "text/plain": [
       "array(['ACURA', 'ALFA ROMEO', 'ALPINA', 'ALPINE', 'AMG HUMMER', 'ASIA',\n",
       "       'ASTON MARTIN', 'AUDI', 'BENTLEY', 'BINZ', 'BMW', 'BUICK',\n",
       "       'CADILLAC', 'CHALLENGER', 'CHAUSSON TRIGANO', 'CHEVROLET',\n",
       "       'CHRYSLER', 'CITROEN', 'CONCORDE', 'DACIA', 'DAEWOO', 'DAIHATSU',\n",
       "       'DAIMLER', 'DODGE', 'DONKERVOORT', 'DR MOTOR', 'DS', 'EAGLE',\n",
       "       'FERRARI', 'FIAT', 'FISKER', 'FORD', 'FREIGHTLINER DAMON', 'GAZ',\n",
       "       'GEELY', 'GMC', 'HONDA', 'HYUNDAI', 'INFINITI', 'ISUZU', 'IVECO',\n",
       "       'JAGUAR', 'JEEP', 'KIA', 'KNAUS', 'LADA', 'LAMBORGHINI', 'LANCIA',\n",
       "       'LAND ROVER', 'LES DAUPHINS', 'LEXUS', 'LINCOLN', 'LOTUS', 'MAN',\n",
       "       'MASERATI', 'MAZDA', 'MAYBACH', 'MCC', 'MCLAREN', 'MERCEDES-BENZ',\n",
       "       'MERCURY', 'MG', 'MIA', 'MICRO-VETT', 'MIDAS', 'MINI',\n",
       "       'MITSUBISHI', 'MORGAN', 'NISSAN', 'OLDSMOBILE', 'OMAVALMISTATUD',\n",
       "       'OPEL', 'PEUGEOT', 'PLYMOUTH', 'PONTIAC', 'PORSCHE', 'PROTON',\n",
       "       'PUCH', 'RENAULT', 'REX', 'ROADMASTER HOLIDAY RAMBLER',\n",
       "       'ROLLS-ROYCE', 'ROVER', 'SAAB', 'SANTANA', 'SATURN', 'SCANIA',\n",
       "       'SCION', 'SEAZ', 'SEAT', 'SHUANGHUAN', 'ŠKODA', 'SMART',\n",
       "       'SSANGYONG', 'SUBARU', 'SUN LIVING', 'SUZUKI', 'ZAZ', 'ZEV',\n",
       "       'ZHONGHUA', 'TACCOL', 'TAZZARI', 'TEMPO', 'TESLA', 'TOYOTA', 'UAZ',\n",
       "       'VAZ', 'VAUXHALL', 'VOLKSWAGEN', 'VOLVO'], dtype=object)"
      ]
     },
     "execution_count": 21,
     "metadata": {},
     "output_type": "execute_result"
    }
   ],
   "source": [
    "data['Mark'].unique() #Checking if all car marks are unique. "
   ]
  },
  {
   "cell_type": "markdown",
   "metadata": {},
   "source": [
    "#### Set electrik vehicle CO2 to 0"
   ]
  },
  {
   "cell_type": "code",
   "execution_count": 22,
   "metadata": {},
   "outputs": [],
   "source": [
    "data.loc[(data['Mootori tüüp'] == 'ELEKTER'), 'CO2'] = 0"
   ]
  },
  {
   "cell_type": "markdown",
   "metadata": {},
   "source": [
    "Saving new data file."
   ]
  },
  {
   "cell_type": "code",
   "execution_count": 23,
   "metadata": {},
   "outputs": [],
   "source": [
    "#Save to file\n",
    "data.to_csv(r'data/cleanedData.csv',index=False,encoding='utf-8-sig')"
   ]
  }
 ],
 "metadata": {
  "kernelspec": {
   "display_name": "Python 3",
   "language": "python",
   "name": "python3"
  },
  "language_info": {
   "codemirror_mode": {
    "name": "ipython",
    "version": 3
   },
   "file_extension": ".py",
   "mimetype": "text/x-python",
   "name": "python",
   "nbconvert_exporter": "python",
   "pygments_lexer": "ipython3",
   "version": "3.8.3"
  }
 },
 "nbformat": 4,
 "nbformat_minor": 4
}
