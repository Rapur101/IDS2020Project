{
 "cells": [
  {
   "cell_type": "markdown",
   "metadata": {},
   "source": [
    "# CO2 prediction model"
   ]
  },
  {
   "cell_type": "markdown",
   "metadata": {},
   "source": [
    "#### Read in data and imports"
   ]
  },
  {
   "cell_type": "code",
   "execution_count": 1,
   "metadata": {},
   "outputs": [],
   "source": [
    "import pandas as pd\n",
    "import numpy as np\n",
    "from sklearn.model_selection import train_test_split\n",
    "from sklearn.ensemble import RandomForestClassifier\n",
    "from sklearn.neighbors import KNeighborsClassifier\n",
    "from sklearn.metrics import accuracy_score\n",
    "from sklearn.linear_model import LinearRegression\n",
    "from sklearn.linear_model import Ridge\n",
    "from sklearn.linear_model import Lasso\n",
    "from math import sqrt\n",
    "from sklearn.metrics import average_precision_score\n",
    "from sklearn import preprocessing\n",
    "from sklearn.metrics import f1_score\n",
    "from sklearn.metrics import mean_squared_error\n",
    "from sklearn.model_selection import cross_validate\n",
    "from sklearn.model_selection import KFold"
   ]
  },
  {
   "cell_type": "code",
   "execution_count": 2,
   "metadata": {},
   "outputs": [],
   "source": [
    "data =  pd.read_csv(\"data/cleanedData.csv\")\n",
    "\n",
    "def get_best_alpha(model,X,y,alphas):\n",
    "    kf = KFold(n_splits=3, random_state = 0, shuffle=False)\n",
    "    results = []\n",
    "    for alpha in alphas:\n",
    "        model.set_params(alpha=alpha)\n",
    "        for train_indexes, test_indexes in kf.split(X):\n",
    "            X_test, X_val = X.values[train_indexes], X.values[test_indexes]\n",
    "            y_test, y_val = y.values[train_indexes], y.values[test_indexes]\n",
    "\n",
    "            model.fit(X_test, y_test)\n",
    "            mse = mean_squared_error(y_val,model.predict(X_val))\n",
    "            results.append((alpha, mse))\n",
    "   \n",
    "\n",
    "    best_alpha, mse = sorted(results, key=lambda x: x[1])[0]\n",
    "    return best_alpha, mse"
   ]
  },
  {
   "cell_type": "markdown",
   "metadata": {},
   "source": [
    "#### Need to remove vehicles without CO2 emissions listed"
   ]
  },
  {
   "cell_type": "code",
   "execution_count": 3,
   "metadata": {},
   "outputs": [],
   "source": [
    "df_NoCO2 = data[data.CO2.isna()]\n",
    "df_CO2 = data[data.CO2.notnull()]\n",
    "df_CO2 = df_CO2.dropna()"
   ]
  },
  {
   "cell_type": "markdown",
   "metadata": {},
   "source": [
    "#### Make all features numeric"
   ]
  },
  {
   "cell_type": "code",
   "execution_count": 4,
   "metadata": {},
   "outputs": [],
   "source": [
    "#df_CO2 = np.array_split(df_CO2, 2)[0]"
   ]
  },
  {
   "cell_type": "code",
   "execution_count": 5,
   "metadata": {},
   "outputs": [
    {
     "name": "stdout",
     "output_type": "stream",
     "text": [
      "Colunm Name :  Üldine staatus\n",
      "['REGISTREERITUD' 'PEATATUD']\n",
      "Colunm Name :  Kategooria\n",
      "['M1' 'M1G']\n",
      "Colunm Name :  Mark\n",
      "['ALFA ROMEO' 'ALPINA' 'AMG HUMMER' 'ASTON MARTIN' 'AUDI' 'BENTLEY' 'BMW'\n",
      " 'BUICK' 'CADILLAC' 'CHEVROLET' 'CHRYSLER' 'CITROEN' 'DACIA' 'DAEWOO'\n",
      " 'DAIHATSU' 'DODGE' 'DS' 'FERRARI' 'FIAT' 'FISKER' 'FORD' 'GMC' 'HONDA'\n",
      " 'HYUNDAI' 'INFINITI' 'IVECO' 'JAGUAR' 'JEEP' 'KIA' 'LADA' 'LAMBORGHINI'\n",
      " 'LANCIA' 'LAND ROVER' 'LEXUS' 'LINCOLN' 'LOTUS' 'MAN' 'MASERATI' 'MAZDA'\n",
      " 'MCC' 'MCLAREN' 'MERCEDES-BENZ' 'MG' 'MICRO-VETT' 'MINI' 'MITSUBISHI'\n",
      " 'MORGAN' 'NISSAN' 'OMAVALMISTATUD' 'OPEL' 'PEUGEOT' 'PLYMOUTH' 'PONTIAC'\n",
      " 'PORSCHE' 'RENAULT' 'ROLLS-ROYCE' 'ROVER' 'SAAB' 'SEAT' 'SHUANGHUAN'\n",
      " 'ŠKODA' 'SMART' 'SSANGYONG' 'SUBARU' 'SUZUKI' 'TESLA' 'TOYOTA' 'VAUXHALL'\n",
      " 'VOLKSWAGEN' 'VOLVO']\n",
      "Colunm Name :  Mudel\n",
      "['145' '146' '147' ... 'XC90' 'XC90 T8 TWIN ENGINE'\n",
      " 'NILSSON V70 AMBULANCE']\n",
      "Colunm Name :  Keretüüp\n",
      "['LUUKPÄRA' 'SEDAAN' 'UNIVERSAAL' 'LAHTINE' 'KUPEE' 'SIHTOTSTARBELINE'\n",
      " 'MAHTUNIVERSAAL' 'ELAMU' 'PIKAP' 'VÕISTLUSAUTO' 'KIIRABI' 'SOOMUSSÕIDUK']\n",
      "Colunm Name :  Värv\n",
      "['MUST' 'PUNANE' 'HALL' 'HÕBEDANE' 'SININE' 'TUMEPUNANE' 'TUMESININE'\n",
      " 'KULDNE' 'TUMEHALL' 'VALGE' 'HELEHALL' 'TUMEROHELINE' 'PRUUN' 'TUMEPRUUN'\n",
      " 'BEEŽ' 'ROHELINE' 'KOLLANE' 'HELEBEEŽ' 'HELEPRUUN' 'LILLA' 'ORANŽ'\n",
      " 'HELEROHELINE' 'HELESININE' 'ROOSA' 'MÄÄRAMATA' 'HELEKOLLANE'\n",
      " 'HELEPUNANE' 'TUMEKOLLANE']\n",
      "Colunm Name :  Mootori tüüp\n",
      "['BENSIIN_KATALYSAATOR' 'DIISEL' 'BENSIIN' 'BENSIIN_HYBRIID' 'CNG'\n",
      " 'DIISEL_HYBRIID' 'ELEKTER' 'LPG']\n",
      "Colunm Name :  Käigukasti tüüp\n",
      "['MANUAAL' 'AUTOMAAT' 'CVT' 'KONSTANTNE_YLEKANNE' 'MUU']\n",
      "Colunm Name :  Maakond\n",
      "['HARJU MAAKOND' 'LÄÄNE-VIRU MAAKOND' 'IDA-VIRU MAAKOND' 'PÄRNU MAAKOND'\n",
      " 'TARTU MAAKOND' 'LÄÄNE MAAKOND' 'VILJANDI MAAKOND' 'JÄRVA MAAKOND'\n",
      " 'VÕRU MAAKOND']\n",
      "Colunm Name :  Linn\n",
      "['Tallinn' 'Rakvere linn' 'Narva-Jõesuu linn' 'Pärnu linn' 'Tartu linn'\n",
      " 'Narva linn' 'Maardu linn' 'Keila linn' 'Haapsalu linn' 'Viljandi linn'\n",
      " 'Kohtla-Järve linn' 'Paide linn' 'Võru linn' 'Sillamäe linn' 'Loksa linn']\n",
      "Colunm Name :  Üldine staatus\n",
      "[0 1]\n",
      "Colunm Name :  Kategooria\n",
      "[0 1]\n",
      "Colunm Name :  Mark\n",
      "[0 1 2 3 4 5 6 7 8 9 10 11 12 13 14 15 16 17 18 19 20 21 22 23 24 25 26 27\n",
      " 28 29 30 31 32 33 34 35 36 37 38 39 40 41 42 43 44 45 46 47 48 49 50 51\n",
      " 52 53 54 55 56 57 58 59 60 61 62 63 64 65 66 67 68 69]\n",
      "Colunm Name :  Mudel\n",
      "[0 1 2 ... 1979 1980 1981]\n",
      "Colunm Name :  Keretüüp\n",
      "[0 1 2 3 4 5 6 7 8 9 10 11]\n",
      "Colunm Name :  Esm reg aasta\n",
      "[1999. 2000. 2005. 2007. 2006. 2001. 2004. 2011. 2003. 2002. 2008. 2009.\n",
      " 2010. 2012. 2017. 2016. 2020. 2018. 2019. 2014. 2015. 2013. 1997. 1998.\n",
      " 1996.]\n",
      "Colunm Name :  Värv\n",
      "[0 1 2 3 4 5 6 7 8 9 10 11 12 13 14 15 16 17 18 19 20 21 22 23 24 25 26 27]\n",
      "Colunm Name :  Mootori tüüp\n",
      "[0 1 2 3 4 5 6 7]\n",
      "Colunm Name :  Mootori maht\n",
      "[1598. 1370. 1910. 1970. 2387. 2198. 1859. 3195. 1742. 2959. 2492. 1956.\n",
      " 2143. 1995. 2891. 1368. 3179. 1248. 4395. 2993. 5967. 3460. 3653. 3639.\n",
      " 5935. 5204. 4282. 4735. 1390. 1197. 1395.  999. 1422. 1984. 1498. 1595.\n",
      " 1968. 1798. 1781. 1896. 3189. 2698. 2496. 3123. 2967. 3197. 2976. 2771.\n",
      " 2393. 2995. 2773. 4163. 2671. 2968. 1890. 4172. 3993. 3996. 3697. 3328.\n",
      " 3936. 5998. 4134. 6299.    0. 3597. 5934. 2480. 2894. 4991. 3956. 6761.\n",
      " 5950. 6752. 1496. 1596. 1599. 1499. 1997. 2996. 1998. 1796. 1895. 2979.\n",
      " 1951. 2793. 1665. 2171. 1991. 2494. 2497. 2926. 2998. 4000. 4398. 4799.\n",
      " 3498. 3600. 3901. 4423. 5379. 5972. 3246. 3999. 4999. 6592. 3201. 4619.\n",
      "  647. 2997. 2792. 3564. 3175. 4565. 6162. 3649. 2392. 4300. 1398. 1150.\n",
      " 1399. 1206. 1229. 3640. 3791. 5666. 2384. 2231. 2405. 5665. 7011. 1362.\n",
      " 1686. 1993. 5327. 5293. 1799.  796.  995. 5328. 5329. 4157. 3350. 1364.\n",
      " 1490. 2360. 3605. 3604. 3518. 2987. 5654. 2736. 3199. 2776. 2499. 2777.\n",
      " 3301. 3778. 1996. 3952. 2429. 2148. 2770. 1560. 1360. 1587. 1868. 1199.\n",
      " 2946. 2179. 2230.  998. 1124. 1397. 1590. 1749. 2720. 2992. 1990. 2999.\n",
      " 2800. 1527. 1761. 1461. 1332.  898. 1149. 2874.  989. 1495. 2730. 6166.\n",
      " 6417. 6424. 5210. 8285. 4308. 3902. 4497. 5999. 5748. 6496. 4297. 3855.\n",
      " 6262. 3586. 1242.  875. 2287. 1581. 1108. 1586. 1747. 1388. 1753. 1999.\n",
      " 2544. 4601. 3497. 4011. 4009. 3496. 1299. 1084. 2261. 2521. 1750. 1988.\n",
      " 2295. 1198. 1989. 2495. 1976. 1597. 3720. 4951. 5038. 4952. 3731. 5162.\n",
      " 4606. 2402. 5734. 2204. 2354. 2199. 2356. 1850. 1339. 1396.  988. 1994.\n",
      " 1668. 1497. 1973. 2203. 1318. 1246. 3471. 3664. 1343. 1341. 1086. 1975.\n",
      " 2656. 2476. 1493. 2188. 1120. 1591. 1582. 1353. 1685. 1580. 1795. 2359.\n",
      " 2351. 3342. 2902. 3696. 2991. 5026. 5552. 2286. 4196. 5000. 3555. 3248.\n",
      " 4998. 2099. 2184. 3239. 3960. 3700. 3701. 2685. 3124. 4701. 6063. 2151.\n",
      " 1690. 6498. 4961. 6192. 4394. 3192. 4367. 3628. 4197. 2487. 3456. 4969.\n",
      " 2500. 4293. 4608. 2362. 3969. 3445. 4461. 5663. 3311. 1987. 2694. 3724.\n",
      " 5409. 4691. 4244. 3798. 3799. 1349. 2191. 2488. 1324. 1840. 1759. 3726.\n",
      " 1308. 2960.  799.  599. 3994. 3982. 5461. 6208. 5980. 1689. 1992. 1699.\n",
      " 2000. 1898. 2035. 1333. 2084. 2034. 1950. 2149. 2597. 2950. 3606. 5439.\n",
      " 4966. 5462. 4663. 5514. 5786. 5513. 6209. 6258. 2925. 2398. 3222. 2799.\n",
      " 3997. 4266. 4973. 4970. 5727. 4664. 6233. 5981. 2299. 2268. 1834. 1468.\n",
      " 2498. 2378. 1584. 3200. 3828. 2972. 2477. 2835. 1870. 1193. 1769. 2180.\n",
      " 1974. 1392. 2464. 1618. 2988. 1240. 1386. 1275. 3954. 2953. 2826.  996.\n",
      " 2463. 2664. 1389. 1488. 3165. 2172. 3900. 3995. 3596. 3387. 3436. 2981.\n",
      " 3614. 3824. 3800. 3745. 2687. 2706. 2893. 3598. 4806. 4511. 2958. 1783.\n",
      " 6749. 1588. 1985. 2290. 2962. 1420. 1960. 2157. 2696. 3000. 2457. 1600.\n",
      " 1298. 1328. 3630. 1061.  993. 2493. 1462. 1373. 1329. 1794. 1762. 1867.\n",
      " 4164. 2982. 2755. 3378. 2438.  973. 2461. 2370. 1191. 1716. 2490. 3168.\n",
      " 2324. 4921. 2400. 2435. 2319. 1969. 2401. 4414. 2922. 1948. 1477.]\n",
      "Colunm Name :  Mootori võimsus\n",
      "[ 88.   76.   85.  110.  129.  122.   81.  136.  147.  118.  191.  154.\n",
      " 162.  138.  140.  125.  177.  132.  206.  148.  375.  103.  120.  173.\n",
      "  77.   66.  114.   99.  447.  257.  236.  164.  180.  345.  448.  350.\n",
      " 381.  336.  410.  388.  283.  298.  313.2 313.  422.  321.  365.   90.\n",
      "  63.   92.   70.   55.   75.   74.  184.   96.  100.  135.  105.  188.\n",
      " 171.  195.  176.  150.  155.  142.  130.  185.  165.  200.  160.  121.\n",
      " 207.  106.  246.  213.  220.  199.  169.  228.  245.  230.  235.  210.\n",
      " 240.  158.  170.  221.  265.  250.  273.  309.  338.  320.  202.  331.\n",
      " 258.  190.  193.  268.  278.  248.  368.  290.  187.  390.  386.  316.\n",
      " 456.  449.  397.  441.  294.  270.  426.  412.  353.  445.  215.  253.\n",
      " 260.  404.  382.  225.  286.  467.  395.  423.  460.  373.  522.  377.\n",
      "  95.  141.   87.   93.  127.  145.  172.  179.  224.  252.  300.  330.\n",
      " 242.  269.  354.  175.  280.  327.  400.  272.  302.  317.  275.  340.\n",
      " 430.  115.  261.  192.  194.  408.  183.  255.   25.   28.  203.  307.\n",
      " 229.  239.  189.  205.  218.  301.  234.  198.  231.  104.  137.   53.\n",
      "  69.   62.   61.   51.  241.  339.  318.  333.  212.  123.  297.  343.\n",
      "  91.   83.   86.  201.   80.   89.   38.   60.   50.   49.   48.   79.\n",
      " 238.  217.  111.  216.  276.  116.  128.  208.   97.   98.  214.  149.\n",
      " 211.  108.   72.   56.   68.   82.   73.   84.   54.   94.   40.   44.\n",
      "  65.   66.2 121.4 152.  133.   35.   42.   60.5  64.   43.  527.  186.\n",
      " 362.  227.  277.  254.  274.  351.  174.  131.  372.  153.  357.  493.\n",
      " 416.  585.  360.  541.  486.  507.   17.   62.5  57.   46.  109.   59.\n",
      " 156.  107.   78.  178.   71.   52.   73.5  51.5 134.  110.3 166.  110.6\n",
      " 483.   88.3  88.2 154.5 157.  310.  312.  233.  324.  392.   74.2 124.\n",
      " 182.  102.  223.   73.6  61.8  25.3  77.2  26.  139.  119.  144.  126.\n",
      " 287.  291.  405.  364.  219.  306.  209.  267.  114.6 169.4 143.  151.\n",
      " 259.  243.  167.  344.  146.   73.3  84.6  73.2  29.  132.4  24.6  67.\n",
      "  59.5 515.  552.  470.  478.  112.  415.  161.  311.  204.  323.  295.\n",
      "  30.   33.  419.  530.  384.  358.  420.  463.  450.  285.  380.  326.\n",
      " 378.  335.  588.  232.  247.  117.  113.   14.  143.1 383.  427.  281.\n",
      "  47.   58.   45.  465.  109.6  94.1 101.   68.6  62.4  99.2 197.  284. ]\n",
      "Colunm Name :  Tühimass\n",
      "[1260. 1235. 1335. ... 1004.  996. 2208.]\n",
      "Colunm Name :  Käigukasti tüüp\n",
      "[0 1 2 3 4]\n",
      "Colunm Name :  Telgi kokku\n",
      "[2.]\n",
      "Colunm Name :  Maakond\n",
      "[0 1 2 3 4 5 6 7 8]\n",
      "Colunm Name :  Linn\n",
      "[0 1 2 3 4 5 6 7 8 9 10 11 12 13 14]\n"
     ]
    }
   ],
   "source": [
    "y = df_CO2['CO2']\n",
    "X = df_CO2.drop(columns=['CO2'])\n",
    "\n",
    "for (columnName, columnData) in X.iteritems():\n",
    "    if (X[columnName].dtypes == 'object'):\n",
    "        v = 0\n",
    "        print('Colunm Name : ', columnName)\n",
    "        uniqueValues = X[columnName].unique()\n",
    "        print(uniqueValues)\n",
    "        for value in uniqueValues:\n",
    "            X.loc[(X[columnName] == value), columnName] = v\n",
    "            v += 1\n",
    "\n",
    "for (columnName, columnData) in X.iteritems():\n",
    "    print('Colunm Name : ', columnName)\n",
    "    print(X[columnName].unique())\n",
    "    \n",
    "#X = pd.get_dummies(X)"
   ]
  },
  {
   "cell_type": "markdown",
   "metadata": {},
   "source": [
    "#### Split the data"
   ]
  },
  {
   "cell_type": "code",
   "execution_count": 6,
   "metadata": {},
   "outputs": [],
   "source": [
    "X_train, X_test, y_train, y_test = train_test_split(X, y, test_size=0.3, random_state=0)"
   ]
  },
  {
   "cell_type": "markdown",
   "metadata": {},
   "source": [
    "#### Classifiers"
   ]
  },
  {
   "cell_type": "code",
   "execution_count": 7,
   "metadata": {},
   "outputs": [],
   "source": [
    "model = RandomForestClassifier(random_state = 0, n_estimators = 10).fit(X_train, y_train)\n",
    "#model = KNeighborsClassifier(n_neighbors=5).fit(X_train, y_train)\n",
    "lr = LinearRegression().fit(X_train, y_train)\n",
    "ridge = Ridge().fit(X_train, y_train)\n",
    "lasso = Lasso().fit(X_train, y_train)"
   ]
  },
  {
   "cell_type": "code",
   "execution_count": 8,
   "metadata": {},
   "outputs": [
    {
     "name": "stdout",
     "output_type": "stream",
     "text": [
      "LinearRegression: 17.999538349511013\n",
      "Ridge: 17.999539914892566\n",
      "Lasso: 18.402150816263223\n"
     ]
    }
   ],
   "source": [
    "print(\"LinearRegression:\",mean_squared_error(y_test, lr.predict(X_test), squared=False))\n",
    "print(\"Ridge:\",mean_squared_error(y_test, ridge.predict(X_test), squared=False))\n",
    "print(\"Lasso:\",mean_squared_error(y_test, lasso.predict(X_test), squared=False))"
   ]
  },
  {
   "cell_type": "code",
   "execution_count": 9,
   "metadata": {},
   "outputs": [],
   "source": [
    "predResults = model.predict(X_test)"
   ]
  },
  {
   "cell_type": "code",
   "execution_count": 10,
   "metadata": {},
   "outputs": [
    {
     "name": "stdout",
     "output_type": "stream",
     "text": [
      "RandomForestClassifier(n_estimators=10, random_state=0) accuracy: 0.8458499606283449\n"
     ]
    }
   ],
   "source": [
    "acc = accuracy_score(y_test, predResults)\n",
    "print(model , \"accuracy:\", acc)"
   ]
  },
  {
   "cell_type": "markdown",
   "metadata": {},
   "source": [
    "#### Getting better alphas"
   ]
  },
  {
   "cell_type": "code",
   "execution_count": 11,
   "metadata": {
    "scrolled": true
   },
   "outputs": [
    {
     "name": "stderr",
     "output_type": "stream",
     "text": [
      "D:\\Anaconda\\lib\\site-packages\\sklearn\\model_selection\\_split.py:293: FutureWarning: Setting a random_state has no effect since shuffle is False. This will raise an error in 0.24. You should leave random_state to its default (None), or set shuffle=True.\n",
      "  warnings.warn(\n"
     ]
    },
    {
     "name": "stdout",
     "output_type": "stream",
     "text": [
      "Ridge best alpha 0.1000 - Avg MSE 326.0448 \n"
     ]
    },
    {
     "name": "stderr",
     "output_type": "stream",
     "text": [
      "D:\\Anaconda\\lib\\site-packages\\sklearn\\model_selection\\_split.py:293: FutureWarning: Setting a random_state has no effect since shuffle is False. This will raise an error in 0.24. You should leave random_state to its default (None), or set shuffle=True.\n",
      "  warnings.warn(\n"
     ]
    },
    {
     "name": "stdout",
     "output_type": "stream",
     "text": [
      "Lasso best alpha 0.0010 - Avg MSE 326.0458 \n"
     ]
    }
   ],
   "source": [
    "ridge_alphas = np.linspace(0.1, 10, 100)\n",
    "lasso_alphas = np.linspace(0.001, 5, 100)\n",
    "\n",
    "print(\"Ridge best alpha %.4f - Avg MSE %.4f \" % get_best_alpha(Ridge(), X_train, y_train, ridge_alphas))\n",
    "print(\"Lasso best alpha %.4f - Avg MSE %.4f \" % get_best_alpha(Lasso(), X_train, y_train, lasso_alphas))"
   ]
  },
  {
   "cell_type": "code",
   "execution_count": 12,
   "metadata": {},
   "outputs": [],
   "source": [
    "ridge2 = Ridge(alpha=0.1).fit(X_train, y_train)\n",
    "lasso2 = Lasso(alpha=0.0010).fit(X_train, y_train)"
   ]
  },
  {
   "cell_type": "code",
   "execution_count": 13,
   "metadata": {},
   "outputs": [
    {
     "name": "stdout",
     "output_type": "stream",
     "text": [
      "Ridge: 17.999539914892566\n",
      "Lasso: 18.402150816263223\n"
     ]
    }
   ],
   "source": [
    "print(\"Ridge:\",mean_squared_error(y_test, ridge.predict(X_test), squared=False))\n",
    "print(\"Lasso:\",mean_squared_error(y_test, lasso.predict(X_test), squared=False))"
   ]
  },
  {
   "cell_type": "markdown",
   "metadata": {},
   "source": [
    "#### Finding column coefficients"
   ]
  },
  {
   "cell_type": "code",
   "execution_count": 17,
   "metadata": {},
   "outputs": [
    {
     "name": "stdout",
     "output_type": "stream",
     "text": [
      "Üldine staatus coefficient: 2.5455789509073687\n",
      "Kategooria coefficient: 11.717551021224313\n",
      "Mark coefficient: -0.2104087123548282\n",
      "Mudel coefficient: 0.008480389041215996\n",
      "Keretüüp coefficient: 1.3632741767083676\n",
      "Esm reg aasta coefficient: -3.8553116050714538\n",
      "Värv coefficient: 0.05465664713795378\n",
      "Mootori tüüp coefficient: -20.735643258450178\n",
      "Mootori maht coefficient: 0.023219141159114096\n",
      "Mootori võimsus coefficient: 0.030413666215681274\n",
      "Tühimass coefficient: 0.05048690181860042\n",
      "Käigukasti tüüp coefficient: 3.3455438028866533\n",
      "Telgi kokku coefficient: -1.7763568394002505e-15\n",
      "Maakond coefficient: -0.09186684473315915\n",
      "Linn coefficient: -0.009291422105273003\n"
     ]
    }
   ],
   "source": [
    "for i in range(len(lr.coef_)):\n",
    "    print(X.columns[i] + \" coefficient:\", lr.coef_[i])"
   ]
  },
  {
   "cell_type": "code",
   "execution_count": 22,
   "metadata": {},
   "outputs": [
    {
     "name": "stdout",
     "output_type": "stream",
     "text": [
      "Üldine staatus coefficient: 2.545529750355957\n",
      "Kategooria coefficient: 11.717441700955316\n",
      "Mark coefficient: -0.21040909122699059\n",
      "Mudel coefficient: 0.008480405049116348\n",
      "Keretüüp coefficient: 1.3632719851389703\n",
      "Esm reg aasta coefficient: -3.8553126406669596\n",
      "Värv coefficient: 0.054656794590231435\n",
      "Mootori tüüp coefficient: -20.73561952670271\n",
      "Mootori maht coefficient: 0.023219132428947777\n",
      "Mootori võimsus coefficient: 0.030413867299678706\n",
      "Tühimass coefficient: 0.05048694334597618\n",
      "Käigukasti tüüp coefficient: 3.345533692032366\n",
      "Telgi kokku coefficient: 0.0\n",
      "Maakond coefficient: -0.09186756308285521\n",
      "Linn coefficient: -0.009291521086223173\n"
     ]
    }
   ],
   "source": [
    "for i in range(len(ridge2.coef_)):\n",
    "    print(X.columns[i] + \" coefficient:\", ridge2.coef_[i])"
   ]
  },
  {
   "cell_type": "code",
   "execution_count": 19,
   "metadata": {},
   "outputs": [
    {
     "name": "stdout",
     "output_type": "stream",
     "text": [
      "Üldine staatus coefficient: 2.5109596234346023\n",
      "Kategooria coefficient: 11.700618195594878\n",
      "Mark coefficient: -0.21040366666909152\n",
      "Mudel coefficient: 0.00848060737314233\n",
      "Keretüüp coefficient: 1.362556128118172\n",
      "Esm reg aasta coefficient: -3.8554827945503054\n",
      "Värv coefficient: 0.054646984975270034\n",
      "Mootori tüüp coefficient: -20.73387094130359\n",
      "Mootori maht coefficient: 0.023219805558437435\n",
      "Mootori võimsus coefficient: 0.03041718819598196\n",
      "Tühimass coefficient: 0.05049656812236978\n",
      "Käigukasti tüüp coefficient: 3.3419866588815736\n",
      "Telgi kokku coefficient: 0.0\n",
      "Maakond coefficient: -0.09172435262337053\n",
      "Linn coefficient: -0.009416904370296186\n"
     ]
    }
   ],
   "source": [
    "for i in range(len(lasso2.coef_)):\n",
    "    print(X.columns[i] + \" coefficient:\", lasso2.coef_[i])"
   ]
  }
 ],
 "metadata": {
  "kernelspec": {
   "display_name": "Python 3",
   "language": "python",
   "name": "python3"
  },
  "language_info": {
   "codemirror_mode": {
    "name": "ipython",
    "version": 3
   },
   "file_extension": ".py",
   "mimetype": "text/x-python",
   "name": "python",
   "nbconvert_exporter": "python",
   "pygments_lexer": "ipython3",
   "version": "3.8.3"
  }
 },
 "nbformat": 4,
 "nbformat_minor": 4
}
