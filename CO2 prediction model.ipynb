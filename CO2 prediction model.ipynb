{
 "cells": [
  {
   "cell_type": "markdown",
   "metadata": {},
   "source": [
    "# CO2 prediction model"
   ]
  },
  {
   "cell_type": "markdown",
   "metadata": {},
   "source": [
    "#### Read in data and imports"
   ]
  },
  {
   "cell_type": "code",
   "execution_count": 1,
   "metadata": {},
   "outputs": [],
   "source": [
    "import pandas as pd\n",
    "import numpy as np\n",
    "from sklearn.model_selection import train_test_split\n",
    "from sklearn.ensemble import RandomForestClassifier\n",
    "from sklearn.neighbors import KNeighborsClassifier\n",
    "from sklearn.metrics import accuracy_score\n",
    "from sklearn.linear_model import LinearRegression\n",
    "from sklearn.linear_model import Ridge\n",
    "from sklearn.linear_model import Lasso\n",
    "from math import sqrt\n",
    "from sklearn.metrics import average_precision_score\n",
    "from sklearn import preprocessing\n",
    "from sklearn.metrics import f1_score\n",
    "from sklearn.metrics import mean_squared_error\n",
    "from sklearn.model_selection import cross_validate\n",
    "from sklearn.model_selection import KFold"
   ]
  },
  {
   "cell_type": "code",
   "execution_count": 2,
   "metadata": {},
   "outputs": [],
   "source": [
    "data =  pd.read_csv(\"data/cleanedData.csv\")\n",
    "\n",
    "def get_best_alpha(model,X,y,alphas):\n",
    "    kf = KFold(n_splits=3, random_state = 0, shuffle=False)\n",
    "    results = []\n",
    "    for alpha in alphas:\n",
    "        model.set_params(alpha=alpha)\n",
    "        for train_indexes, test_indexes in kf.split(X):\n",
    "            X_test, X_val = X.values[train_indexes], X.values[test_indexes]\n",
    "            y_test, y_val = y.values[train_indexes], y.values[test_indexes]\n",
    "\n",
    "            model.fit(X_test, y_test)\n",
    "            mse = mean_squared_error(y_val,model.predict(X_val))\n",
    "            results.append((alpha, mse))\n",
    "   \n",
    "\n",
    "    best_alpha, mse = sorted(results, key=lambda x: x[1])[0]\n",
    "    return best_alpha, mse"
   ]
  },
  {
   "cell_type": "markdown",
   "metadata": {},
   "source": [
    "#### Need to remove vehicles without CO2 emissions listed"
   ]
  },
  {
   "cell_type": "code",
   "execution_count": 3,
   "metadata": {},
   "outputs": [],
   "source": [
    "df_NoCO2 = data[data.CO2.isna()]\n",
    "df_CO2 = data[data.CO2.notnull()]\n",
    "#df_CO2 = df_CO2[df_CO2['Käigukasti tüüp'] != np.nan]\n"
   ]
  },
  {
   "cell_type": "markdown",
   "metadata": {},
   "source": [
    "#### Make all features numeric"
   ]
  },
  {
   "cell_type": "code",
   "execution_count": 4,
   "metadata": {},
   "outputs": [],
   "source": [
    "#df_CO2 = np.array_split(df_CO2, 2)[0]"
   ]
  },
  {
   "cell_type": "code",
   "execution_count": 5,
   "metadata": {},
   "outputs": [
    {
     "name": "stdout",
     "output_type": "stream",
     "text": [
      "Colunm Name :  Üldine staatus\n",
      "['REGISTREERITUD' 'PEATATUD']\n",
      "Colunm Name :  Kategooria\n",
      "['M1' 'M1G']\n",
      "Colunm Name :  Mark\n",
      "['ALFA ROMEO' 'ALPINA' 'ALPINE' 'AMG HUMMER' 'ASTON MARTIN' 'AUDI'\n",
      " 'BENTLEY' 'BMW' 'BUICK' 'CADILLAC' 'CHEVROLET' 'CHRYSLER' 'CITROEN'\n",
      " 'DACIA' 'DAEWOO' 'DAIHATSU' 'DODGE' 'DONKERVOORT' 'DR MOTOR' 'DS'\n",
      " 'FERRARI' 'FIAT' 'FISKER' 'FORD' 'GMC' 'HONDA' 'HYUNDAI' 'INFINITI'\n",
      " 'ISUZU' 'IVECO' 'JAGUAR' 'JEEP' 'KIA' 'LADA' 'LAMBORGHINI' 'LANCIA'\n",
      " 'LAND ROVER' 'LES DAUPHINS' 'LEXUS' 'LINCOLN' 'LOTUS' 'MAN' 'MASERATI'\n",
      " 'MAZDA' 'MCC' 'MCLAREN' 'MERCEDES-BENZ' 'MG' 'MINI' 'MITSUBISHI' 'MORGAN'\n",
      " 'NISSAN' 'OPEL' 'PEUGEOT' 'PLYMOUTH' 'PONTIAC' 'PORSCHE' 'RENAULT'\n",
      " 'ROLLS-ROYCE' 'ROVER' 'SAAB' 'SEAT' 'SHUANGHUAN' 'ŠKODA' 'SMART'\n",
      " 'SSANGYONG' 'SUBARU' 'SUZUKI' 'TOYOTA' 'VAZ' 'VAUXHALL' 'VOLKSWAGEN'\n",
      " 'VOLVO']\n",
      "Colunm Name :  Mudel\n",
      "['145' '146' '147' ... 'XC90' 'XC90 T8 TWIN ENGINE'\n",
      " 'NILSSON V70 AMBULANCE']\n",
      "Colunm Name :  Keretüüp\n",
      "['LUUKPÄRA' 'SEDAAN' 'UNIVERSAAL' 'LAHTINE' 'KUPEE' 'MAHTUNIVERSAAL'\n",
      " 'SIHTOTSTARBELINE' 'VÕISTLUSAUTO' 'ELAMU' 'PIKAP' 'KIIRABI'\n",
      " 'SOOMUSSÕIDUK' 'LIMUSIIN']\n",
      "Colunm Name :  Esm reg aasta\n",
      "[1999. 2000. 2002. 2005. 2003. 2006. 2007. 2004. 2009. 2008. 2001. 2011.\n",
      " 2010. 2012. 2013. 2017. 2018. 2020. 2019. 2016. 2014. 2015. 1998. 1997.\n",
      " 1996.]\n",
      "Colunm Name :  Värv\n",
      "['MUST' 'PUNANE' 'HALL' 'HELESININE' 'HÕBEDANE' 'SININE' 'TUMEHALL'\n",
      " 'TUMEPUNANE' 'TUMESININE' 'VALGE' 'HELEHALL' 'KULDNE' 'ROHELINE'\n",
      " 'TUMEROHELINE' 'PRUUN' 'TUMEPRUUN' 'BEEŽ' 'ORANŽ' 'KOLLANE' 'HELEBEEŽ'\n",
      " 'HELEPRUUN' 'LILLA' 'HELEROHELINE' 'MÄÄRAMATA' 'ROOSA' 'HELEKOLLANE'\n",
      " 'HELEPUNANE' 'TUMEKOLLANE']\n",
      "Colunm Name :  Mootori tüüp\n",
      "['BENSIIN_KATALYSAATOR' 'DIISEL' 'BENSIIN' 'BENSIIN_HYBRIID' 'CNG'\n",
      " 'DIISEL_HYBRIID' 'LPG']\n",
      "Colunm Name :  Mootori maht\n",
      "[1598. 1370. 1910. 1970. 2387. 2198. 1859. 1742. 3195. 2959. 2492. 1747.\n",
      " 3179. 1956. 4691. 1368. 1995. 2143. 2891. 1248. 4395. 2993. 1798. 5967.\n",
      " 3460. 3653. 3464. 3639. 5935. 5204. 4282. 4735. 1390. 1395. 1197.  999.\n",
      " 1422. 1984. 1498. 1968. 1595. 1781. 1896. 3189. 1589. 2698. 2496. 2967.\n",
      " 3123. 3197. 2976. 2771. 2393. 1890. 2995. 2979. 2773. 4163. 2671. 2968.\n",
      " 2987. 4172. 3993. 3996. 3697. 3328. 3936. 4134. 5998. 6299. 3597. 5934.\n",
      " 2480. 2894. 4991. 3956. 6761. 5950. 6752. 2996. 1496. 1596. 1599. 1499.\n",
      " 1997. 1998. 1796. 1895. 1951. 2793. 1665. 2171. 1991. 2926. 2494. 2497.\n",
      " 2998. 4398. 4000. 4799. 3498. 3600. 3901. 4423. 5379. 5972. 3246. 3999.\n",
      " 4999. 6592. 3201. 4941. 4619.  647. 2384. 2997. 2792. 3564. 3175. 2597.\n",
      " 6162. 4565. 6199. 4585. 3649. 2392. 4300. 1398. 1150. 1399. 1229. 1206.\n",
      " 3640. 3791. 5666. 2405. 2231. 5665. 7011. 1362. 1686. 1993. 5327. 5293.\n",
      " 5734. 5283. 1799.  796.  995. 5329. 5328. 5733. 4157. 3350. 1364. 1490.\n",
      " 2360. 3605. 3604. 3518. 5654. 2736. 3199. 2776. 3301. 2499. 2777. 3778.\n",
      " 2429. 1996. 1990. 3952. 2148. 3300. 2770. 1560. 1360. 1587. 1868. 1199.\n",
      " 1860. 2946. 2230. 2179.  998. 1124. 1397. 1590. 1749. 2720. 2992. 2800.\n",
      " 2999. 1527. 1761. 1461. 1332.  898. 1149. 2874. 1298.  989. 1495. 2730.\n",
      " 6063. 6166. 6417. 6059. 6424. 5210. 3700. 8285. 4308. 3902. 4497. 5999.\n",
      " 5748. 6496. 4297. 3855. 6262. 3586. 1242.  875. 2287. 1581. 1108. 1586.\n",
      " 1388. 1753. 1999. 2544. 4601. 6798. 3497. 5409. 4011. 4009. 3496. 1299.\n",
      " 1084. 2261. 2521. 1988. 1750. 2295. 1976. 5411. 1198. 1989. 1597. 2495.\n",
      " 3720. 4951. 5038. 4606. 4952. 3731. 5162. 2402. 2298. 2204. 2354. 2199.\n",
      " 2356. 1850. 1339. 1396.  988. 1994. 1668. 1497. 1973. 2203. 1318. 1246.\n",
      " 3471. 3664. 1343. 3493. 1493. 1341. 1086. 1975. 2656. 2476. 1080. 2188.\n",
      " 3342. 1120. 1582. 1591. 1482. 1353. 1685. 1580. 1795. 2359. 2351. 2902.\n",
      " 3696. 2991. 5026. 5552. 2286. 4196. 5000. 3248. 3555. 4998. 2099. 2184.\n",
      " 3239. 3960. 2464. 3701. 2685. 3124. 4701. 2151. 1690. 6498. 4961. 6192.\n",
      " 4394. 3192. 4367. 3628. 4197. 2487. 3456. 4969. 2500. 4293. 4608. 2362.\n",
      " 2491. 3969. 3445. 4461. 5663. 3311. 1987. 2694. 3724. 5403. 4244. 3798.\n",
      " 3799. 1349. 2191. 2488. 1324. 1840. 1759. 3726. 1308. 2960.  799.  599.\n",
      " 3994. 3982. 5461. 5980. 6208. 6209. 5981. 1992. 1689. 1699. 2000. 1898.\n",
      " 2035. 1333. 1950. 2084. 2034. 2149. 2950. 3606. 4266. 5439. 4966. 5462.\n",
      " 4663. 5514. 5786. 5513. 6258. 2925. 2140. 2398. 2799. 3222. 3997. 4973.\n",
      " 4970. 5727. 4664. 5959. 6233. 5912. 2299. 2268. 1834. 1870. 1468. 2498.\n",
      " 2378. 1584. 3200. 3828. 2972. 2477. 2835. 1193. 1769. 1392. 2180. 1974.\n",
      " 1618. 2988. 1240. 1386. 1348. 1275. 3954. 2953. 2826.  996. 2463. 2283.\n",
      " 2664. 1389. 2172. 1488. 3165. 2190. 1905. 3900. 3995. 3387. 3596. 2981.\n",
      " 3436. 3614. 3800. 3824. 3797. 3745. 2687. 2706. 2893. 3598. 4806. 4511.\n",
      " 2958. 1783. 6749. 1588. 1985. 2290. 2962. 5290. 4128. 1716. 1420. 1960.\n",
      "  698. 2157. 2696. 3000. 2457. 1600. 1328. 3630. 1061.  993. 2493. 1462.\n",
      " 1373. 1329. 1794. 1762. 1867. 4164. 2982. 2755. 3378. 2438. 2672.  973.\n",
      " 1789. 2461. 2370. 1191. 2490. 3168. 2324. 4921. 2460. 2400. 2435. 2319.\n",
      " 1969. 2401. 4414. 2922. 1948. 1477.]\n",
      "Colunm Name :  Mootori võimsus\n",
      "[ 88.   76.   85.  110.  125.  129.  122.   81.  136.  147.  118.  154.\n",
      " 191.  162.  138.  140.  103.  141.  184.  100.  177.  331.  206.  132.\n",
      " 148.  375.  173.  120.   77.   66.  114.   70.   99.   57.  447.  257.\n",
      " 185.  236.  164.  180.  345.  448.  306.  336.  350.  381.  410.  388.\n",
      " 380.  283.  298.  313.2 313.  422.  321.  365.   90.   92.   63.   55.\n",
      "  75.   74.   96.   79.  135.  155.  105.  171.  176.  188.  195.  150.\n",
      " 142.  130.  165.  160.  200.  121.   97.  207.  228.  170.  106.  169.\n",
      " 213.  246.  220.  199.  202.  245.  230.  235.  210.  240.  158.  151.\n",
      " 156.  190.  250.  221.  265.  268.  273.  309.  338.  320.  258.  193.\n",
      " 278.  248.  368.  290.  187.  128.  204.  390.  386.  316.  456.  449.\n",
      " 397.  441.  294.  270.  426.  412.  353.  445.  215.  253.  260.  404.\n",
      " 420.  382.  225.  286.  467.  395.  423.  460.  373.  522.  377.   80.\n",
      "  95.  224.   87.   93.  115.  127.  145.  172.  179.  252.  183.  300.\n",
      " 330.  242.  269.  354.  175.  280.  327.  400.  272.  302.  317.  275.\n",
      " 340.  430.  261.  192.  194.  408.  255.   25.   28.  134.  203.  307.\n",
      " 229.  239.  189.  133.  415.  205.  218.  301.  234.  198.  231.  104.\n",
      " 137.   53.   61.   69.   62.   51.  241.  333.  485.  339.  318.  212.\n",
      " 123.  297.  343.   91.   83.   86.  201.   89.   38.   48.   49.   50.\n",
      "  60.  238.  217.  119.  111.  216.  276.  116.  208.  108.   98.  214.\n",
      " 149.  211.   68.   72.   56.   82.   84.   73.   54.   94.   40.   44.\n",
      "  65.   66.2 121.4 152.   42.   60.5  64.   43.   41.  527.  227.  186.\n",
      " 362.  277.  254.  274.  351.  174.  131.  372.  153.  357.  493.  416.\n",
      " 530.  585.  360.  541.  486.  507.   52.   62.5  46.  109.   59.  107.\n",
      "  78.  178.   73.5  71.   51.5 110.3 166.  110.6 483.   88.3  88.2 154.5\n",
      " 157.  310.  312.  324.  233.  392.   74.2  95.6 124.  209.  182.  102.\n",
      " 223.   73.6  61.8  55.2 117.   77.2 139.  144.  126.  287.  291.  405.\n",
      " 364.  219.  267.  114.6 169.4 143.  259.  243.  167.  344.  146.   73.3\n",
      "  84.6  73.2 196.  132.4  45.   67.   59.5 515.  545.  552.  470.  471.\n",
      " 478.  112.  161.  311.  323.  295.   30.   33.  419.  384.  463.  358.\n",
      " 450.  285.  326.  378.  335.  588.  625.  232.  247.  113.  143.1 305.\n",
      " 383.  427.  281.   47.   58.  465.   37.  109.6 130.9  94.1 101.   68.6\n",
      "  62.4  99.2 197.  284.  168. ]\n",
      "Colunm Name :  Tühimass\n",
      "[1260. 1235. 1365. ... 2611. 1004.  996.]\n",
      "Colunm Name :  Käigukasti tüüp\n",
      "['MANUAAL' 'AUTOMAAT' nan 'CVT']\n",
      "Colunm Name :  Telgi kokku\n",
      "[2.]\n",
      "Colunm Name :  Maakond\n",
      "['HARJU MAAKOND' 'LÄÄNE-VIRU MAAKOND' 'IDA-VIRU MAAKOND' 'JÕGEVA MAAKOND'\n",
      " 'PÄRNU MAAKOND' 'RAPLA MAAKOND' 'MÄÄRAMATA' 'VÕRU MAAKOND'\n",
      " 'JÄRVA MAAKOND' 'TARTU MAAKOND' 'VALGA MAAKOND' 'VILJANDI MAAKOND'\n",
      " 'LÄÄNE MAAKOND' 'PÕLVA MAAKOND' 'SAARE MAAKOND' 'HIIU MAAKOND']\n",
      "Colunm Name :  Linn\n",
      "['Tallinn' 'Rakvere linn' nan 'Narva-Jõesuu linn' 'Pärnu linn'\n",
      " 'Tartu linn' 'Narva linn' 'Maardu linn' 'Keila linn' 'Haapsalu linn'\n",
      " 'Viljandi linn' 'Kohtla-Järve linn' 'Paide linn' 'Võru linn'\n",
      " 'Sillamäe linn' 'Loksa linn']\n",
      "Colunm Name :  Üldine staatus\n",
      "[1 2]\n",
      "Colunm Name :  Kategooria\n",
      "[1 2]\n",
      "Colunm Name :  Mark\n",
      "[ 1  2  3  4  5  6  7  8  9 10 11 12 13 14 15 16 17 18 19 20 21 22 23 24\n",
      " 25 26 27 28 29 30 31 32 33 34 35 36 37 38 39 40 41 42 43 44 45 46 47 48\n",
      " 49 50 51 52 53 54 55 56 57 58 59 60 61 62 63 64 65 66 67 68 69 70 71 72\n",
      " 73]\n",
      "Colunm Name :  Mudel\n",
      "[   1    2    3 ... 2141 2142 2143]\n",
      "Colunm Name :  Keretüüp\n",
      "[ 1  2  3  4  5  6  7  8  9 10 11 12 13]\n",
      "Colunm Name :  Esm reg aasta\n",
      "[1999. 2000. 2002. 2005. 2003. 2006. 2007. 2004. 2009. 2008. 2001. 2011.\n",
      " 2010. 2012. 2013. 2017. 2018. 2020. 2019. 2016. 2014. 2015. 1998. 1997.\n",
      " 1996.]\n",
      "Colunm Name :  Värv\n",
      "[ 1  2  3  4  5  6  7  8  9 10 11 12 13 14 15 16 17 18 19 20 21 22 23 24\n",
      " 25 26 27 28]\n",
      "Colunm Name :  Mootori tüüp\n",
      "[1 2 3 4 5 6 7]\n",
      "Colunm Name :  Mootori maht\n",
      "[1598. 1370. 1910. 1970. 2387. 2198. 1859. 1742. 3195. 2959. 2492. 1747.\n",
      " 3179. 1956. 4691. 1368. 1995. 2143. 2891. 1248. 4395. 2993. 1798. 5967.\n",
      " 3460. 3653. 3464. 3639. 5935. 5204. 4282. 4735. 1390. 1395. 1197.  999.\n",
      " 1422. 1984. 1498. 1968. 1595. 1781. 1896. 3189. 1589. 2698. 2496. 2967.\n",
      " 3123. 3197. 2976. 2771. 2393. 1890. 2995. 2979. 2773. 4163. 2671. 2968.\n",
      " 2987. 4172. 3993. 3996. 3697. 3328. 3936. 4134. 5998. 6299. 3597. 5934.\n",
      " 2480. 2894. 4991. 3956. 6761. 5950. 6752. 2996. 1496. 1596. 1599. 1499.\n",
      " 1997. 1998. 1796. 1895. 1951. 2793. 1665. 2171. 1991. 2926. 2494. 2497.\n",
      " 2998. 4398. 4000. 4799. 3498. 3600. 3901. 4423. 5379. 5972. 3246. 3999.\n",
      " 4999. 6592. 3201. 4941. 4619.  647. 2384. 2997. 2792. 3564. 3175. 2597.\n",
      " 6162. 4565. 6199. 4585. 3649. 2392. 4300. 1398. 1150. 1399. 1229. 1206.\n",
      " 3640. 3791. 5666. 2405. 2231. 5665. 7011. 1362. 1686. 1993. 5327. 5293.\n",
      " 5734. 5283. 1799.  796.  995. 5329. 5328. 5733. 4157. 3350. 1364. 1490.\n",
      " 2360. 3605. 3604. 3518. 5654. 2736. 3199. 2776. 3301. 2499. 2777. 3778.\n",
      " 2429. 1996. 1990. 3952. 2148. 3300. 2770. 1560. 1360. 1587. 1868. 1199.\n",
      " 1860. 2946. 2230. 2179.  998. 1124. 1397. 1590. 1749. 2720. 2992. 2800.\n",
      " 2999. 1527. 1761. 1461. 1332.  898. 1149. 2874. 1298.  989. 1495. 2730.\n",
      " 6063. 6166. 6417. 6059. 6424. 5210. 3700. 8285. 4308. 3902. 4497. 5999.\n",
      " 5748. 6496. 4297. 3855. 6262. 3586. 1242.  875. 2287. 1581. 1108. 1586.\n",
      " 1388. 1753. 1999. 2544. 4601. 6798. 3497. 5409. 4011. 4009. 3496. 1299.\n",
      " 1084. 2261. 2521. 1988. 1750. 2295. 1976. 5411. 1198. 1989. 1597. 2495.\n",
      " 3720. 4951. 5038. 4606. 4952. 3731. 5162. 2402. 2298. 2204. 2354. 2199.\n",
      " 2356. 1850. 1339. 1396.  988. 1994. 1668. 1497. 1973. 2203. 1318. 1246.\n",
      " 3471. 3664. 1343. 3493. 1493. 1341. 1086. 1975. 2656. 2476. 1080. 2188.\n",
      " 3342. 1120. 1582. 1591. 1482. 1353. 1685. 1580. 1795. 2359. 2351. 2902.\n",
      " 3696. 2991. 5026. 5552. 2286. 4196. 5000. 3248. 3555. 4998. 2099. 2184.\n",
      " 3239. 3960. 2464. 3701. 2685. 3124. 4701. 2151. 1690. 6498. 4961. 6192.\n",
      " 4394. 3192. 4367. 3628. 4197. 2487. 3456. 4969. 2500. 4293. 4608. 2362.\n",
      " 2491. 3969. 3445. 4461. 5663. 3311. 1987. 2694. 3724. 5403. 4244. 3798.\n",
      " 3799. 1349. 2191. 2488. 1324. 1840. 1759. 3726. 1308. 2960.  799.  599.\n",
      " 3994. 3982. 5461. 5980. 6208. 6209. 5981. 1992. 1689. 1699. 2000. 1898.\n",
      " 2035. 1333. 1950. 2084. 2034. 2149. 2950. 3606. 4266. 5439. 4966. 5462.\n",
      " 4663. 5514. 5786. 5513. 6258. 2925. 2140. 2398. 2799. 3222. 3997. 4973.\n",
      " 4970. 5727. 4664. 5959. 6233. 5912. 2299. 2268. 1834. 1870. 1468. 2498.\n",
      " 2378. 1584. 3200. 3828. 2972. 2477. 2835. 1193. 1769. 1392. 2180. 1974.\n",
      " 1618. 2988. 1240. 1386. 1348. 1275. 3954. 2953. 2826.  996. 2463. 2283.\n",
      " 2664. 1389. 2172. 1488. 3165. 2190. 1905. 3900. 3995. 3387. 3596. 2981.\n",
      " 3436. 3614. 3800. 3824. 3797. 3745. 2687. 2706. 2893. 3598. 4806. 4511.\n",
      " 2958. 1783. 6749. 1588. 1985. 2290. 2962. 5290. 4128. 1716. 1420. 1960.\n",
      "  698. 2157. 2696. 3000. 2457. 1600. 1328. 3630. 1061.  993. 2493. 1462.\n",
      " 1373. 1329. 1794. 1762. 1867. 4164. 2982. 2755. 3378. 2438. 2672.  973.\n",
      " 1789. 2461. 2370. 1191. 2490. 3168. 2324. 4921. 2460. 2400. 2435. 2319.\n",
      " 1969. 2401. 4414. 2922. 1948. 1477.]\n",
      "Colunm Name :  Mootori võimsus\n",
      "[ 88.   76.   85.  110.  125.  129.  122.   81.  136.  147.  118.  154.\n",
      " 191.  162.  138.  140.  103.  141.  184.  100.  177.  331.  206.  132.\n",
      " 148.  375.  173.  120.   77.   66.  114.   70.   99.   57.  447.  257.\n",
      " 185.  236.  164.  180.  345.  448.  306.  336.  350.  381.  410.  388.\n",
      " 380.  283.  298.  313.2 313.  422.  321.  365.   90.   92.   63.   55.\n",
      "  75.   74.   96.   79.  135.  155.  105.  171.  176.  188.  195.  150.\n",
      " 142.  130.  165.  160.  200.  121.   97.  207.  228.  170.  106.  169.\n",
      " 213.  246.  220.  199.  202.  245.  230.  235.  210.  240.  158.  151.\n",
      " 156.  190.  250.  221.  265.  268.  273.  309.  338.  320.  258.  193.\n",
      " 278.  248.  368.  290.  187.  128.  204.  390.  386.  316.  456.  449.\n",
      " 397.  441.  294.  270.  426.  412.  353.  445.  215.  253.  260.  404.\n",
      " 420.  382.  225.  286.  467.  395.  423.  460.  373.  522.  377.   80.\n",
      "  95.  224.   87.   93.  115.  127.  145.  172.  179.  252.  183.  300.\n",
      " 330.  242.  269.  354.  175.  280.  327.  400.  272.  302.  317.  275.\n",
      " 340.  430.  261.  192.  194.  408.  255.   25.   28.  134.  203.  307.\n",
      " 229.  239.  189.  133.  415.  205.  218.  301.  234.  198.  231.  104.\n",
      " 137.   53.   61.   69.   62.   51.  241.  333.  485.  339.  318.  212.\n",
      " 123.  297.  343.   91.   83.   86.  201.   89.   38.   48.   49.   50.\n",
      "  60.  238.  217.  119.  111.  216.  276.  116.  208.  108.   98.  214.\n",
      " 149.  211.   68.   72.   56.   82.   84.   73.   54.   94.   40.   44.\n",
      "  65.   66.2 121.4 152.   42.   60.5  64.   43.   41.  527.  227.  186.\n",
      " 362.  277.  254.  274.  351.  174.  131.  372.  153.  357.  493.  416.\n",
      " 530.  585.  360.  541.  486.  507.   52.   62.5  46.  109.   59.  107.\n",
      "  78.  178.   73.5  71.   51.5 110.3 166.  110.6 483.   88.3  88.2 154.5\n",
      " 157.  310.  312.  324.  233.  392.   74.2  95.6 124.  209.  182.  102.\n",
      " 223.   73.6  61.8  55.2 117.   77.2 139.  144.  126.  287.  291.  405.\n",
      " 364.  219.  267.  114.6 169.4 143.  259.  243.  167.  344.  146.   73.3\n",
      "  84.6  73.2 196.  132.4  45.   67.   59.5 515.  545.  552.  470.  471.\n",
      " 478.  112.  161.  311.  323.  295.   30.   33.  419.  384.  463.  358.\n",
      " 450.  285.  326.  378.  335.  588.  625.  232.  247.  113.  143.1 305.\n",
      " 383.  427.  281.   47.   58.  465.   37.  109.6 130.9  94.1 101.   68.6\n",
      "  62.4  99.2 197.  284.  168. ]\n",
      "Colunm Name :  Tühimass\n",
      "[1260. 1235. 1365. ... 2611. 1004.  996.]\n",
      "Colunm Name :  Käigukasti tüüp\n",
      "[1 2 0 4]\n",
      "Colunm Name :  Telgi kokku\n",
      "[2.]\n",
      "Colunm Name :  Maakond\n",
      "[ 1  2  3  4  5  6  7  8  9 10 11 12 13 14 15 16]\n",
      "Colunm Name :  Linn\n",
      "[ 1  2  0  4  5  6  7  8  9 10 11 12 13 14 15 16]\n"
     ]
    }
   ],
   "source": [
    "y = df_CO2['CO2']\n",
    "X = df_CO2.drop(columns=['CO2'])\n",
    "\n",
    "for (columnName, columnData) in X.iteritems():\n",
    "    print('Colunm Name : ', columnName)\n",
    "    uniqueValues = X[columnName].unique()\n",
    "    print(uniqueValues)\n",
    "    if ((X[columnName].dtypes == 'object')):\n",
    "        v = 1\n",
    "        for value in uniqueValues:\n",
    "            X.loc[(X[columnName] == value), columnName] = v\n",
    "            v += 1\n",
    "        X[columnName] = X[columnName].fillna(0)\n",
    "\n",
    "for (columnName, columnData) in X.iteritems():\n",
    "    print('Colunm Name : ', columnName)\n",
    "    print(X[columnName].unique())\n",
    "    \n",
    "#X = pd.get_dummies(X)"
   ]
  },
  {
   "cell_type": "markdown",
   "metadata": {},
   "source": [
    "#### Split the data"
   ]
  },
  {
   "cell_type": "code",
   "execution_count": 6,
   "metadata": {},
   "outputs": [],
   "source": [
    "X_train, X_test, y_train, y_test = train_test_split(X, y, test_size=0.3, random_state=0)"
   ]
  },
  {
   "cell_type": "markdown",
   "metadata": {},
   "source": [
    "#### Classifiers"
   ]
  },
  {
   "cell_type": "code",
   "execution_count": 7,
   "metadata": {},
   "outputs": [],
   "source": [
    "model = RandomForestClassifier(random_state = 0, n_estimators = 10).fit(X_train, y_train)\n",
    "#model = KNeighborsClassifier(n_neighbors=5).fit(X_train, y_train)\n",
    "lr = LinearRegression().fit(X_train, y_train)\n",
    "ridge = Ridge().fit(X_train, y_train)\n",
    "lasso = Lasso().fit(X_train, y_train)"
   ]
  },
  {
   "cell_type": "code",
   "execution_count": 8,
   "metadata": {},
   "outputs": [
    {
     "name": "stdout",
     "output_type": "stream",
     "text": [
      "LinearRegression: 17.983926778097587\n",
      "Ridge: 17.98392673284698\n",
      "Lasso: 18.384037940826516\n"
     ]
    }
   ],
   "source": [
    "print(\"LinearRegression:\",mean_squared_error(y_test, lr.predict(X_test), squared=False))\n",
    "print(\"Ridge:\",mean_squared_error(y_test, ridge.predict(X_test), squared=False))\n",
    "print(\"Lasso:\",mean_squared_error(y_test, lasso.predict(X_test), squared=False))"
   ]
  },
  {
   "cell_type": "code",
   "execution_count": 9,
   "metadata": {},
   "outputs": [],
   "source": [
    "predResults = model.predict(X_test)"
   ]
  },
  {
   "cell_type": "code",
   "execution_count": 10,
   "metadata": {},
   "outputs": [
    {
     "name": "stdout",
     "output_type": "stream",
     "text": [
      "RandomForestClassifier(n_estimators=10, random_state=0) accuracy: 0.8705281945051716\n"
     ]
    }
   ],
   "source": [
    "acc = accuracy_score(y_test, predResults)\n",
    "print(model , \"accuracy:\", acc)"
   ]
  },
  {
   "cell_type": "markdown",
   "metadata": {},
   "source": [
    "#### Getting better alphas"
   ]
  },
  {
   "cell_type": "code",
   "execution_count": 11,
   "metadata": {
    "scrolled": true
   },
   "outputs": [
    {
     "name": "stderr",
     "output_type": "stream",
     "text": [
      "D:\\Anaconda\\lib\\site-packages\\sklearn\\model_selection\\_split.py:293: FutureWarning: Setting a random_state has no effect since shuffle is False. This will raise an error in 0.24. You should leave random_state to its default (None), or set shuffle=True.\n",
      "  warnings.warn(\n"
     ]
    },
    {
     "name": "stdout",
     "output_type": "stream",
     "text": [
      "Ridge best alpha 0.1000 - Avg MSE 319.3770 \n"
     ]
    },
    {
     "name": "stderr",
     "output_type": "stream",
     "text": [
      "D:\\Anaconda\\lib\\site-packages\\sklearn\\model_selection\\_split.py:293: FutureWarning: Setting a random_state has no effect since shuffle is False. This will raise an error in 0.24. You should leave random_state to its default (None), or set shuffle=True.\n",
      "  warnings.warn(\n"
     ]
    },
    {
     "name": "stdout",
     "output_type": "stream",
     "text": [
      "Lasso best alpha 0.0010 - Avg MSE 319.3771 \n"
     ]
    }
   ],
   "source": [
    "ridge_alphas = np.linspace(0.1, 10, 100)\n",
    "lasso_alphas = np.linspace(0.001, 5, 100)\n",
    "\n",
    "print(\"Ridge best alpha %.4f - Avg MSE %.4f \" % get_best_alpha(Ridge(), X_train, y_train, ridge_alphas))\n",
    "print(\"Lasso best alpha %.4f - Avg MSE %.4f \" % get_best_alpha(Lasso(), X_train, y_train, lasso_alphas))"
   ]
  },
  {
   "cell_type": "code",
   "execution_count": 12,
   "metadata": {},
   "outputs": [],
   "source": [
    "ridge2 = Ridge(alpha=0.1).fit(X_train, y_train)\n",
    "lasso2 = Lasso(alpha=0.0010).fit(X_train, y_train)"
   ]
  },
  {
   "cell_type": "code",
   "execution_count": 13,
   "metadata": {},
   "outputs": [
    {
     "name": "stdout",
     "output_type": "stream",
     "text": [
      "Ridge: 17.98392673284698\n",
      "Lasso: 18.384037940826516\n"
     ]
    }
   ],
   "source": [
    "print(\"Ridge:\",mean_squared_error(y_test, ridge.predict(X_test), squared=False))\n",
    "print(\"Lasso:\",mean_squared_error(y_test, lasso.predict(X_test), squared=False))"
   ]
  },
  {
   "cell_type": "markdown",
   "metadata": {},
   "source": [
    "#### Finding column coefficients"
   ]
  },
  {
   "cell_type": "code",
   "execution_count": 14,
   "metadata": {},
   "outputs": [
    {
     "name": "stdout",
     "output_type": "stream",
     "text": [
      "Üldine staatus coefficient: 1.5022127997176844\n",
      "Kategooria coefficient: 12.635263438280843\n",
      "Mark coefficient: -0.19492253923255098\n",
      "Mudel coefficient: 0.007229411864185479\n",
      "Keretüüp coefficient: 1.4205927062796402\n",
      "Esm reg aasta coefficient: -3.7030264281127\n",
      "Värv coefficient: 0.05471613835612219\n",
      "Mootori tüüp coefficient: -22.466474617050075\n",
      "Mootori maht coefficient: 0.024940022414884577\n",
      "Mootori võimsus coefficient: 0.010033049607092623\n",
      "Tühimass coefficient: 0.05336504009924912\n",
      "Käigukasti tüüp coefficient: 1.8416570638356138\n",
      "Telgi kokku coefficient: -1.0658141036401503e-14\n",
      "Maakond coefficient: -0.03769371105952954\n",
      "Linn coefficient: 0.017976456103185132\n"
     ]
    }
   ],
   "source": [
    "for i in range(len(lr.coef_)):\n",
    "    print(X.columns[i] + \" coefficient:\", lr.coef_[i])"
   ]
  },
  {
   "cell_type": "code",
   "execution_count": 15,
   "metadata": {},
   "outputs": [
    {
     "name": "stdout",
     "output_type": "stream",
     "text": [
      "Üldine staatus coefficient: 1.5021979198774411\n",
      "Kategooria coefficient: 12.635199835550075\n",
      "Mark coefficient: -0.19492282201175237\n",
      "Mudel coefficient: 0.007229422799820544\n",
      "Keretüüp coefficient: 1.420591110682824\n",
      "Esm reg aasta coefficient: -3.7030271127453322\n",
      "Värv coefficient: 0.05471626182141867\n",
      "Mootori tüüp coefficient: -22.466456899336407\n",
      "Mootori maht coefficient: 0.02494001225192467\n",
      "Mootori võimsus coefficient: 0.01003321472727654\n",
      "Tühimass coefficient: 0.053365061938720315\n",
      "Käigukasti tüüp coefficient: 1.8416542284238966\n",
      "Telgi kokku coefficient: 0.0\n",
      "Maakond coefficient: -0.03769387079261876\n",
      "Linn coefficient: 0.017976470966754952\n"
     ]
    }
   ],
   "source": [
    "for i in range(len(ridge2.coef_)):\n",
    "    print(X.columns[i] + \" coefficient:\", ridge2.coef_[i])"
   ]
  },
  {
   "cell_type": "code",
   "execution_count": 16,
   "metadata": {},
   "outputs": [
    {
     "name": "stdout",
     "output_type": "stream",
     "text": [
      "Üldine staatus coefficient: 1.4717065756462226\n",
      "Kategooria coefficient: 12.61790267470762\n",
      "Mark coefficient: -0.1949777234365671\n",
      "Mudel coefficient: 0.007231749457370385\n",
      "Keretüüp coefficient: 1.419613502909684\n",
      "Esm reg aasta coefficient: -3.703173282516459\n",
      "Värv coefficient: 0.05469864618450196\n",
      "Mootori tüüp coefficient: -22.464132744723365\n",
      "Mootori maht coefficient: 0.024939964143526634\n",
      "Mootori võimsus coefficient: 0.010036696922641138\n",
      "Tühimass coefficient: 0.053374534326742155\n",
      "Käigukasti tüüp coefficient: 1.839382877679788\n",
      "Telgi kokku coefficient: 0.0\n",
      "Maakond coefficient: -0.037757868001531095\n",
      "Linn coefficient: 0.01784361060219596\n"
     ]
    }
   ],
   "source": [
    "for i in range(len(lasso2.coef_)):\n",
    "    print(X.columns[i] + \" coefficient:\", lasso2.coef_[i])"
   ]
  }
 ],
 "metadata": {
  "kernelspec": {
   "display_name": "Python 3",
   "language": "python",
   "name": "python3"
  },
  "language_info": {
   "codemirror_mode": {
    "name": "ipython",
    "version": 3
   },
   "file_extension": ".py",
   "mimetype": "text/x-python",
   "name": "python",
   "nbconvert_exporter": "python",
   "pygments_lexer": "ipython3",
   "version": "3.8.3"
  }
 },
 "nbformat": 4,
 "nbformat_minor": 4
}
